{
 "cells": [
  {
   "cell_type": "markdown",
   "metadata": {},
   "source": [
    "## Softmax Regression (Multi-Class Logistic Regression)"
   ]
  },
  {
   "cell_type": "markdown",
   "metadata": {},
   "source": [
    "So far, we have had classification problems where we had to predict the outcome as binary, 0 or 1? cat or not a cat? There is a generalization of logistic regression called Softmax regression, that lets us make predictions on a multi-class problem. \n",
    "\n",
    "$C = $ number of classes (different categories of classes).\n",
    "\n",
    "Let us say that $C=4$. In this case, we are going to build a new NN where the output layer has 4 units (same as the number of classes). So $n^{[L]} = 4 = C$. Furthermore, each unit in the output layer denotes the probability of the outcome of each of the classes given the input, X, i.e. $P(\\text{Class} | X)$. Here the outcome label $\\hat{y}$ is going to be dimension $(4,1)$."
   ]
  },
  {
   "cell_type": "markdown",
   "metadata": {},
   "source": [
    "In the final layer of the NN, we are going to compute as usual the linear part of the layer, $z^{[L]} = w^{[L]} a^{[L-1]}+ b^{[L]}$. After having computed the linear part, we need to apply **Softmax Activation Function**.\n",
    "\n",
    "Softmax Activation Function: \n",
    "\n",
    "- First we are going to compute a temporary variable called $t$ as follows\n",
    "$$ t = e^{z^{[L]}} $$\n",
    "    - This is an exponential-wise operation in python and will of the dimension (4,1)\n",
    "- After computing $t$, we are going to normalize $t$ so that it sums to 1. ($t$ is a vector)\n",
    "$$  a^{[L]} =  \\frac{e^{z^{[L]}}}{\\sum_{j=1}^{C} t_i } $$\n",
    "    - For a particular example in the final layer, it will look as follows:\n",
    "$$ a_i^{[L]} =  \\frac{ t_i }{\\sum_{j=1}^{C} t_i } $$\n",
    "\n",
    "The output $a_i^{[L]}$ denotes the probabilities of the final units."
   ]
  },
  {
   "cell_type": "markdown",
   "metadata": {},
   "source": [
    "The thing to note is that the decision boundary among various classes when we plot the classes, will always be linear."
   ]
  },
  {
   "cell_type": "markdown",
   "metadata": {},
   "source": [
    "## Training Softmax Classifier\n",
    "\n",
    "A hard max classifier is a classifier when the output is of the following form: One class output has the probability 1, and the all other classes have proability 0.\n",
    "\n",
    "Softmax Regression generalizes logistic regression to C classes rather than just two classes.\n",
    "\n",
    "**Loss Function**\n",
    "\n",
    "$$ L(\\hat{y},\\ y) = -\\sum_{j=1}^{4} y_j \\text{log}\\hat{y}_j $$\n",
    "\n",
    "**Cost Function**\n",
    "$$  J(w^{[i]}, b^{[i]}) = \\frac{1}{m} \\sum_{i=1}^{m} L(\\hat{y}^{(i)}, y^{(i)}) $$\n",
    "\n",
    "We can use the gradient descent to minimize the cost function like we have been doing before.\n",
    "\n",
    "**Back-Prop** \n",
    "\n",
    "$$ \\frac{ \\partial J }{ \\partial z^{[L]} } = dz^{[L]} = \\hat y - y $$"
   ]
  }
 ],
 "metadata": {
  "kernelspec": {
   "display_name": "Python 3.7.13 ('base')",
   "language": "python",
   "name": "python3"
  },
  "language_info": {
   "codemirror_mode": {
    "name": "ipython",
    "version": 3
   },
   "file_extension": ".py",
   "mimetype": "text/x-python",
   "name": "python",
   "nbconvert_exporter": "python",
   "pygments_lexer": "ipython3",
   "version": "3.7.13"
  },
  "vscode": {
   "interpreter": {
    "hash": "2f9be63dc4f67cd23638b8e785a0e27a8af8598712c0c689e320ac3cb92769c8"
   }
  }
 },
 "nbformat": 4,
 "nbformat_minor": 4
}
